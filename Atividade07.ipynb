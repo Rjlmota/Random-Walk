{
 "cells": [
  {
   "cell_type": "code",
   "execution_count": 4,
   "metadata": {},
   "outputs": [],
   "source": [
    "import random\n",
    "\n",
    "\n",
    "def erroAbsoluto(exato, aproximado):\n",
    "    return abs(exato-aproximado)\n",
    "def erroRelativo(exato, aproximado):\n",
    "    if(aproximado == 0): return 0\n",
    "    return erroAbsoluto(exato, aproximado)/aproximado"
   ]
  },
  {
   "cell_type": "code",
   "execution_count": 2,
   "metadata": {},
   "outputs": [],
   "source": [
    "def eval(x):\n",
    "    y = [0 for x in range(3)]\n",
    "    y[0] = (3 * x[0]) + (2* x[1]) + (4* x[2])\n",
    "    y[1] = (x[0]) + x[1] + (2* x[2])\n",
    "    y[2] = (4* x[0]) + (3* x[1] - 2* x[2])\n",
    "    \n",
    "    return y\n",
    "\n",
    "def relativeError(results, expected):\n",
    "    error = [9 for x in range(3)]\n",
    "    for i in range(3):\n",
    "        error[i] = erroRelativo(results[i], expected[i])\n",
    "    return error\n",
    "\n",
    "\n",
    "def randomGenerator():\n",
    "    numbers = []\n",
    "    for i in range(3):\n",
    "        numbers.append(round(random.uniform(-50, 50), 5))\n",
    "        \n",
    "    return numbers\n",
    "\n",
    "\n",
    "        \n",
    "    \n",
    "        \n",
    "    \n",
    "    "
   ]
  },
  {
   "cell_type": "code",
   "execution_count": 40,
   "metadata": {},
   "outputs": [],
   "source": [
    "teste = randomGenerator()\n",
    "\n",
    "expected = [1, 2, 3]\n",
    "inp = eval(teste)\n",
    "\n",
    "inputs = [[]]\n",
    "\n",
    "inputs.append(inp)\n",
    "\n",
    "outputs.append(relativeError(inp, expected))"
   ]
  },
  {
   "cell_type": "code",
   "execution_count": null,
   "metadata": {},
   "outputs": [],
   "source": []
  }
 ],
 "metadata": {
  "kernelspec": {
   "display_name": "Python 3",
   "language": "python",
   "name": "python3"
  },
  "language_info": {
   "codemirror_mode": {
    "name": "ipython",
    "version": 3
   },
   "file_extension": ".py",
   "mimetype": "text/x-python",
   "name": "python",
   "nbconvert_exporter": "python",
   "pygments_lexer": "ipython3",
   "version": "3.7.0"
  }
 },
 "nbformat": 4,
 "nbformat_minor": 2
}
