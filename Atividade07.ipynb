{
 "cells": [
  {
   "cell_type": "markdown",
   "metadata": {},
   "source": [
    "# Indice\n",
    "- [Media por Iteração](#Media-por-Iteração)\n",
    "- [Media por Execução](#Media-por-Execução)\n",
    "- [Media Execuções](#Media-Execuções)\n",
    "- [Comparação](#Comparação)\n"
   ]
  },
  {
   "cell_type": "code",
   "execution_count": 4,
   "metadata": {},
   "outputs": [],
   "source": [
    "import random\n",
    "import matplotlib.pyplot as plt\n",
    "from statistics import stdev\n",
    "\n",
    "def erroAbsoluto(exato, aproximado):\n",
    "    return abs(exato-aproximado)\n",
    "def erroRelativo(exato, aproximado):\n",
    "    if(aproximado == 0): return 0\n",
    "    return erroAbsoluto(exato, aproximado)/aproximado"
   ]
  },
  {
   "cell_type": "code",
   "execution_count": 5,
   "metadata": {},
   "outputs": [],
   "source": [
    "def eval(x):\n",
    "    y = [0 for x in range(3)]\n",
    "    y[0] = (3 * x[0]) + (2* x[1]) + (4* x[2])\n",
    "    y[1] = (x[0]) + x[1] + (2* x[2])\n",
    "    y[2] = (4* x[0]) + (3* x[1] - 2* x[2])\n",
    "    \n",
    "    return y\n",
    "\n",
    "def relativeError(results, expected):\n",
    "    error = [0 for x in range(3)]\n",
    "    for i in range(3):\n",
    "        error[i] = erroRelativo(results[i], expected[i])\n",
    "    return error\n",
    "\n",
    "\n",
    "def randomGenerator():\n",
    "    numbers = []\n",
    "    for i in range(3):\n",
    "        numbers.append(round(random.uniform(-10, 10), 5))\n",
    "        \n",
    "    return numbers\n",
    "\n",
    "def sum(arr):\n",
    "    soma = 0\n",
    "    for i in arr:\n",
    "        soma+= i\n",
    "        \n",
    "    return soma\n",
    "        \n",
    "\n",
    "    \n",
    "    \n",
    "def mean(arr):\n",
    "    if (len(arr) > 0):\n",
    "        return sum(arr)/len(arr)\n",
    "    return 0\n",
    "\n",
    "        \n",
    "    \n",
    "    "
   ]
  },
  {
   "cell_type": "code",
   "execution_count": 6,
   "metadata": {},
   "outputs": [],
   "source": [
    "class sequence():\n",
    "    \n",
    "    numbers = []\n",
    "    result = [0 for x in range(3)]    \n",
    "    error = [0 for x in range(3)]\n",
    "    meanError = 0\n",
    "    def evalS(self):\n",
    "        x = self.numbers\n",
    "        self.result[0] = (3 * x[0]) + (2* x[1]) + (4* x[2])\n",
    "        self.result[1] = (x[0]) + x[1] + (2* x[2])\n",
    "        self.result[2] = (4* x[0]) + (3* x[1] - 2* x[2])\n",
    "        return self.result\n",
    "    \n",
    "    def rerror(self, results, expected):\n",
    "        for i in range(3):\n",
    "            self.error[i] = erroRelativo(results[i], expected[i])\n",
    "        return self.error\n",
    "        \n",
    "    def meanError(self):\n",
    "        self.meanError = mean(self.error)\n",
    "        return self.meanError\n",
    "        \n",
    "        \n",
    "    def __init__(self, numbers):\n",
    "        self.numbers = numbers\n",
    "        self.evalS()\n",
    "        self.rerror(self.result, [1, 2, 3])\n",
    "        self.meanError()\n",
    "        \n",
    "teste = sequence([2.321, 0.312, 5.231])\n",
    "\n",
    "#print(teste.numbers)\n",
    "\n",
    "\n",
    "\n",
    "def arrMean(arr):\n",
    "    acc = 0\n",
    "    if(len(arr) > 0):\n",
    "        for i in (arr):\n",
    "            acc += i.meanError\n",
    "        \n",
    "        return acc/len(arr)\n",
    "        \n",
    "    "
   ]
  },
  {
   "cell_type": "code",
   "execution_count": 7,
   "metadata": {},
   "outputs": [],
   "source": [
    "bestForIteration = [[] for x in range(5)]\n",
    "def execution(number):\n",
    "    sequences = [sequence(randomGenerator()) for x in range(50)]\n",
    "\n",
    "    sequences.sort(key=lambda x: x.meanError, reverse=False)\n",
    "\n",
    "    sequences = sequences[:25]\n",
    "\n",
    "    #print(arrMean(sequences))\n",
    "    for i in range(1000):\n",
    "        \n",
    "        bestForIteration[number].append(sequences[0].meanError)\n",
    "        \n",
    "        for i in range(25):\n",
    "            sequences.append(sequence(randomGenerator()))\n",
    "\n",
    "        if(arrMean(sequences) < 0.98):\n",
    "            break\n",
    "        else:\n",
    "            sequences.sort(key=lambda x: x.meanError, reverse=False)\n",
    "\n",
    "            sequences = sequences[:25]\n",
    "\n",
    "\n",
    "    #for i in sequences:\n",
    "        #print(\"a: \", end = '')\n",
    "        #print(i.meanError * 100)\n",
    "        \n",
    "    return sequences[0]\n",
    "\n",
    "    "
   ]
  },
  {
   "cell_type": "code",
   "execution_count": 8,
   "metadata": {},
   "outputs": [
    {
     "name": "stdout",
     "output_type": "stream",
     "text": [
      "oi\n"
     ]
    }
   ],
   "source": [
    "best = []\n",
    "for i in range(5):\n",
    "    best.append(execution(i))\n",
    "print(\"oi\")\n",
    "bestSequences = []\n",
    "for seq in best:\n",
    "    bestSequences.append(seq.meanError * 100)\n",
    "\n",
    "meanBruteForce = mean(bestSequences) \n",
    "devBruteForce = stdev(bestSequences)\n",
    "\n",
    "\n"
   ]
  },
  {
   "cell_type": "code",
   "execution_count": 9,
   "metadata": {},
   "outputs": [],
   "source": [
    "def mediaIt(arr):\n",
    "    tmp = 0\n",
    "    newArr = []\n",
    "    for i in range(1000):\n",
    "        for j in range(5):\n",
    "         tmp += arr[j][i]\n",
    "        newArr.append(tmp)\n",
    "        tmp = 0\n",
    "    return newArr"
   ]
  },
  {
   "cell_type": "markdown",
   "metadata": {},
   "source": [
    "## Media por Iteração"
   ]
  },
  {
   "cell_type": "code",
   "execution_count": 11,
   "metadata": {},
   "outputs": [
    {
     "data": {
      "image/png": "[encoded data removed]",
      "text/plain": [
       "<Figure size 432x288 with 1 Axes>"
      ]
     },
     "metadata": {},
     "output_type": "display_data"
    }
   ],
   "source": [
    "mediaGeral = mediaIt(bestForIteration)\n",
    "x_arr = [x for x in range(1000)]\n",
    "plt.plot(x_arr, mediaGeral)\n",
    "plt.show()"
   ]
  },
  {
   "cell_type": "markdown",
   "metadata": {},
   "source": [
    "## Media por Execução"
   ]
  },
  {
   "cell_type": "code",
   "execution_count": 12,
   "metadata": {},
   "outputs": [
    {
     "data": {
      "image/png": "[encoded data removed]",
      "text/plain": [
       "<Figure size 432x288 with 1 Axes>"
      ]
     },
     "metadata": {},
     "output_type": "display_data"
    }
   ],
   "source": [
    "x_axis = [x for x in range(5)]\n",
    "plt.plot(x_axis, bestSequences)\n",
    "plt.show()"
   ]
  },
  {
   "cell_type": "markdown",
   "metadata": {},
   "source": [
    "## Media Execuções"
   ]
  },
  {
   "cell_type": "code",
   "execution_count": 13,
   "metadata": {},
   "outputs": [
    {
     "data": {
      "image/png": "[encoded data removed]",
      "text/plain": [
       "<Figure size 432x288 with 1 Axes>"
      ]
     },
     "metadata": {},
     "output_type": "display_data"
    }
   ],
   "source": [
    "import numpy as np\n",
    "import matplotlib.pyplot as plt\n",
    "from matplotlib.ticker import MaxNLocator\n",
    "from collections import namedtuple\n",
    "\n",
    "\n",
    "n_groups = 1\n",
    "\n",
    "fig, ax = plt.subplots()\n",
    "\n",
    "index = np.arange(n_groups)\n",
    "bar_width = 0.35\n",
    "\n",
    "error_config = {'ecolor': '0.3'}\n",
    "rects1 = ax.bar(index, meanBruteForce, bar_width,\n",
    "                color='b',\n",
    "                yerr=devBruteForce, error_kw=error_config,\n",
    "                label='Brute Force')\n",
    "\n",
    "ax.set_xlim(-1, 1)\n",
    "ax.set_ylabel('Erro')\n",
    "ax.set_title('Media de todas as Execuções')\n",
    "ax.set_xticklabels((''))\n",
    "ax.legend()\n",
    "\n",
    "fig.tight_layout()\n",
    "plt.show()"
   ]
  },
  {
   "cell_type": "markdown",
   "metadata": {},
   "source": [
    "## Comparação"
   ]
  },
  {
   "cell_type": "code",
   "execution_count": 15,
   "metadata": {},
   "outputs": [
    {
     "name": "stdout",
     "output_type": "stream",
     "text": [
      "[-3.04156, 4.68221, 0.24089]||26.61038888888894,[-3, 5, 0]\n",
      "[-2.70513, 4.55895, -0.01419]||5.998666666666614,[-3, 5, 0]\n",
      "[0.38887, 0.31279, -0.22237]||32.976666666666674,[-3, 5, 0]\n",
      "[-3.35051, 5.40363, -0.01161]||12.054555555555584,[-3, 5, 0]\n",
      "[-3.86726, 6.31861, 0.00779]||15.237833333333302,[-3, 5, 0]\n"
     ]
    }
   ],
   "source": [
    "for i in best:\n",
    "    print(i.numbers, end = '||')\n",
    "    print(i.meanError*100, end = ',')\n",
    "    print([-3, 5, 0])"
   ]
  },
  {
   "cell_type": "code",
   "execution_count": null,
   "metadata": {},
   "outputs": [],
   "source": []
  },
  {
   "cell_type": "code",
   "execution_count": null,
   "metadata": {},
   "outputs": [],
   "source": []
  },
  {
   "cell_type": "code",
   "execution_count": null,
   "metadata": {},
   "outputs": [],
   "source": []
  },
  {
   "cell_type": "code",
   "execution_count": null,
   "metadata": {},
   "outputs": [],
   "source": []
  }
 ],
 "metadata": {
  "kernelspec": {
   "display_name": "Python 3",
   "language": "python",
   "name": "python3"
  },
  "language_info": {
   "codemirror_mode": {
    "name": "ipython",
    "version": 3
   },
   "file_extension": ".py",
   "mimetype": "text/x-python",
   "name": "python",
   "nbconvert_exporter": "python",
   "pygments_lexer": "ipython3",
   "version": "3.6.5"
  }
 },
 "nbformat": 4,
 "nbformat_minor": 2
}
